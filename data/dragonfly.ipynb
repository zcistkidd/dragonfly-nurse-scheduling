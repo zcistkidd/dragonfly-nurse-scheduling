{
 "cells": [
  {
   "cell_type": "code",
   "execution_count": 5,
   "metadata": {
    "collapsed": true
   },
   "outputs": [],
   "source": [
    "import numpy as np\n",
    "import matplotlib.pyplot as plt\n",
    "\n",
    "_beta = 1.5\n",
    "_sigma = 0.6966\n",
    "_eps = 1e-8\n",
    "\n",
    "\n",
    "def _levy(dim, n):\n",
    "    r1 = np.random.normal(size=(n, dim))\n",
    "    r2 = np.random.normal(size=(n, dim))\n",
    "    return 0.01 * ((r1 * _sigma) / np.power(np.abs(r2), 1.0 / _beta))\n",
    "\n",
    "\n",
    "def _variable_param(i, maxi, agents=1):\n",
    "    w = 0.9 - i * ((0.9 - 0.4) / maxi)\n",
    "    my_c = 0.1 - i * ((0.1 - (-0.1)) / maxi)\n",
    "    my_c = 0 if my_c < 0 else my_c\n",
    "    s = 2 * np.random.sample((agents, 1)) * my_c  # Seperation weight\n",
    "    a = 2 * np.random.sample((agents, 1)) * my_c  # Alignment weight\n",
    "    c = 2 * np.random.sample((agents, 1)) * my_c  # Cohesion weight\n",
    "    f = 2 * np.random.sample((agents, 1))  # Food attraction weight\n",
    "    e = my_c  # Enemy distraction weight\n",
    "    return a, c, e, f, s, w\n",
    "\n",
    "\n",
    "def variable_plot(param_fun, maxi, n):\n",
    "    iter_x = np.arange(maxi)\n",
    "    arr = np.zeros((maxi, 6))\n",
    "    for i in range(maxi):\n",
    "        res = np.zeros((n, 6))\n",
    "        for j in range(n):\n",
    "            res[j, :] = np.asarray(param_fun(i, maxi, 1))\n",
    "        arr[i, :] = np.mean(res, axis=0)\n",
    "    plt.plot(iter_x, arr[:, 0], label=\"a\")\n",
    "    plt.plot(iter_x, arr[:, 1], label=\"c\")\n",
    "    plt.plot(iter_x, arr[:, 2], label=\"e\")\n",
    "    plt.plot(iter_x, arr[:, 3], label=\"f\")\n",
    "    plt.plot(iter_x, arr[:, 4], label=\"s\")\n",
    "    plt.plot(iter_x, arr[:, 5], label=\"w\")\n",
    "    plt.title(\"Zbieznosc parametrow\")\n",
    "    plt.xlabel(\"Liczba iteracji\")\n",
    "    plt.ylabel(\"Wartosc wagi\")\n",
    "    plt.legend(fontsize='medium')\n",
    "    plt.savefig(\"paramevolution.png\")\n",
    "    plt.show()\n",
    "\n",
    "\n",
    "def _get_radius(i, maxi, lbd, ubd):\n",
    "    return (ubd - lbd) * (0.25 + ((2.0 * i)/maxi))\n",
    "\n",
    "\n",
    "def _random_population(cols,choices=[-1,0,1,2],rows=12 ):\n",
    "    #return a n*lbd(row*col) size matrix with every element in [0,ubd)\n",
    "    # will need to change to discrete\n",
    "    # return np.random.random((n, lbd.size)) * (ubd - lbd) + lbd\n",
    "    return np.random.choice(choices,(rows, cols))\n",
    "\n",
    "def _get_neighbours_matrix(pos, radius, agents):\n",
    "    t = np.abs(pos - pos[:, np.newaxis]) < radius\n",
    "    return np.all(t, 2) - np.eye(agents, dtype=np.int8)\n",
    "\n",
    "\n",
    "def _get_neighbours_vector(pos, radius, v):\n",
    "    t = np.abs(pos - v) < radius\n",
    "    return np.all(t, 1) + 0.0\n",
    "\n",
    "\n",
    "def _divide(l, m, default):\n",
    "    m2 = np.repeat(m, l.shape[1]).reshape(l.shape)\n",
    "    ind_non0 = np.where(m2 > 0)\n",
    "    ind_eq0 = np.where(m2 == 1)\n",
    "    l[ind_non0] /= m2[ind_non0]\n",
    "    l[ind_eq0] = default[ind_eq0]\n",
    "    return l\n",
    "\n",
    "\n",
    "def _border_reflection(pos, lbd, ubd):\n",
    "    diff = ubd - lbd\n",
    "    f = np.floor(pos/diff - lbd/diff)\n",
    "    lm = (np.mod(f, 2.0) == 1.0).real * (ubd + lbd)\n",
    "    pos = (pos - diff * f) * np.power(-1.0, f) + lm\n",
    "    return pos\n"
   ]
  },
  {
   "cell_type": "code",
   "execution_count": 6,
   "outputs": [
    {
     "data": {
      "text/plain": "array([[ 1,  1, -1,  2,  2,  0, -1, -1,  0, -1,  0, -1,  2,  1],\n       [ 1,  2,  1,  1,  2,  2,  2,  1, -1,  0,  2,  2,  1, -1],\n       [ 1,  0,  1,  0, -1,  0,  1,  0,  0, -1, -1,  1, -1,  2],\n       [-1,  1,  2,  0,  2,  1, -1,  0,  0, -1,  0, -1,  1,  0],\n       [ 2, -1, -1,  0,  2,  2,  0, -1, -1, -1,  1,  0,  1,  1],\n       [ 0, -1,  0,  1,  2, -1, -1,  1,  2,  2,  2,  0, -1,  1],\n       [ 0,  1,  1,  1,  0, -1, -1,  0,  1, -1, -1,  0,  0,  1],\n       [ 1, -1, -1,  1,  0, -1,  0,  2,  1, -1,  2,  0,  2,  1],\n       [-1,  1,  2, -1,  0,  0,  0,  0, -1,  2,  1,  0,  2,  1],\n       [-1, -1, -1,  0, -1, -1,  1,  1, -1, -1, -1,  2,  2,  1],\n       [ 1,  0, -1,  2,  1,  1,  0,  1, -1,  0,  0,  2, -1,  0],\n       [ 1,  0,  0,  0,  0,  1,  2,  2, -1,  0, -1,  1,  2,  2]])"
     },
     "execution_count": 6,
     "metadata": {},
     "output_type": "execute_result"
    }
   ],
   "source": [
    "k =_random_population(14,choices=[-1,0,1,2],rows=12 )\n",
    "k\n"
   ],
   "metadata": {
    "collapsed": false,
    "pycharm": {
     "name": "#%%\n"
    }
   }
  }
 ],
 "metadata": {
  "kernelspec": {
   "display_name": "Python 3",
   "language": "python",
   "name": "python3"
  },
  "language_info": {
   "codemirror_mode": {
    "name": "ipython",
    "version": 2
   },
   "file_extension": ".py",
   "mimetype": "text/x-python",
   "name": "python",
   "nbconvert_exporter": "python",
   "pygments_lexer": "ipython2",
   "version": "2.7.6"
  }
 },
 "nbformat": 4,
 "nbformat_minor": 0
}